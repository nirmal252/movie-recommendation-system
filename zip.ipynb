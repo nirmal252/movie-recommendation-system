{
 "cells": [
  {
   "cell_type": "code",
   "execution_count": 1,
   "id": "5087a85f-d10f-45f4-a733-169624a56fbe",
   "metadata": {},
   "outputs": [],
   "source": [
    "import gzip\n",
    "import pickle\n",
    "\n",
    "# Compress each file\n",
    "with open(\"movies.pkl\", \"rb\") as f_in:\n",
    "    with gzip.open(\"movies.pkl.gz\", \"wb\") as f_out:\n",
    "        f_out.write(f_in.read())\n",
    "\n",
    "with open(\"similarity.pkl\", \"rb\") as f_in:\n",
    "    with gzip.open(\"similarity.pkl.gz\", \"wb\") as f_out:\n",
    "        f_out.write(f_in.read())\n"
   ]
  },
  {
   "cell_type": "code",
   "execution_count": 2,
   "id": "636a004c-c769-49ff-88b0-de238826553f",
   "metadata": {},
   "outputs": [],
   "source": [
    "import gzip\n",
    "import shutil\n",
    "\n",
    "with open(\"movies.pkl\", \"rb\") as f_in, gzip.open(\"movies.pkl.gz\", \"wb\") as f_out:\n",
    "    shutil.copyfileobj(f_in, f_out)\n",
    "\n",
    "with open(\"similarity.pkl\", \"rb\") as f_in, gzip.open(\"similarity.pkl.gz\", \"wb\") as f_out:\n",
    "    shutil.copyfileobj(f_in, f_out)\n"
   ]
  },
  {
   "cell_type": "code",
   "execution_count": 4,
   "id": "b6c698c2-8365-495b-a75d-2810b29f47d3",
   "metadata": {},
   "outputs": [
    {
     "name": "stdout",
     "output_type": "stream",
     "text": [
      "Compression complete. File saved as: tmdb_5000_credits.csv.gz\n"
     ]
    }
   ],
   "source": [
    "import gzip\n",
    "import shutil\n",
    "\n",
    "input_file = \"tmdb_5000_credits.csv\"\n",
    "output_file = \"tmdb_5000_credits.csv.gz\"\n",
    "\n",
    "with open(input_file, \"rb\") as f_in:\n",
    "    with gzip.open(output_file, \"wb\") as f_out:\n",
    "        shutil.copyfileobj(f_in, f_out)\n",
    "\n",
    "print(\"Compression complete. File saved as:\", output_file)\n"
   ]
  },
  {
   "cell_type": "code",
   "execution_count": null,
   "id": "c8106142-3ef0-4406-8125-724a51ce0daa",
   "metadata": {},
   "outputs": [],
   "source": []
  }
 ],
 "metadata": {
  "kernelspec": {
   "display_name": "Python 3 (ipykernel)",
   "language": "python",
   "name": "python3"
  },
  "language_info": {
   "codemirror_mode": {
    "name": "ipython",
    "version": 3
   },
   "file_extension": ".py",
   "mimetype": "text/x-python",
   "name": "python",
   "nbconvert_exporter": "python",
   "pygments_lexer": "ipython3",
   "version": "3.13.3"
  }
 },
 "nbformat": 4,
 "nbformat_minor": 5
}
