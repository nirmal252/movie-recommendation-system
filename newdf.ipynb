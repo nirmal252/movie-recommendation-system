{
 "cells": [
  {
   "cell_type": "code",
   "execution_count": 3,
   "id": "f09421f2-2054-403f-9b0f-af9ca084c1be",
   "metadata": {},
   "outputs": [],
   "source": [
    "\n",
    "import pandas as pd\n",
    "import ast\n",
    "\n",
    "# Load your data\n",
    "movies = pd.read_csv('tmdb_5000_movies.csv')\n",
    "credits = pd.read_csv('tmdb_5000_credits.csv')\n",
    "\n",
    "# Merge movies and credits\n",
    "movies = movies.merge(credits, on='title')\n",
    "\n",
    "# Keep only necessary columns\n",
    "movies = movies[['movie_id', 'title', 'overview', 'genres', 'keywords', 'cast', 'crew']]\n",
    "\n",
    "# Helper functions to process JSON-like columns\n",
    "def convert(text):\n",
    "    return [i['name'] for i in ast.literal_eval(text)]\n",
    "\n",
    "def get_director(text):\n",
    "    for i in ast.literal_eval(text):\n",
    "        if i['job'] == 'Director':\n",
    "            return i['name']\n",
    "    return \"\"\n",
    "\n",
    "def get_top_3_cast(text):\n",
    "    return [i['name'] for i in ast.literal_eval(text)[:3]]\n",
    "\n",
    "# Apply the helper functions\n",
    "movies['genres'] = movies['genres'].apply(convert)\n",
    "movies['keywords'] = movies['keywords'].apply(convert)\n",
    "movies['cast'] = movies['cast'].apply(get_top_3_cast)\n",
    "movies['crew'] = movies['crew'].apply(get_director)\n",
    "\n",
    "# Handle missing overviews\n",
    "movies['overview'] = movies['overview'].fillna('')\n",
    "\n",
    "# Combine everything into a single 'tags' column\n",
    "movies['tags'] = (\n",
    "    movies['overview'] + ' ' +\n",
    "    movies['genres'].apply(lambda x: ' '.join(x)) + ' ' +\n",
    "    movies['keywords'].apply(lambda x: ' '.join(x)) + ' ' +\n",
    "    movies['cast'].apply(lambda x: ' '.join(x)) + ' ' +\n",
    "    movies['crew']\n",
    ").str.lower()\n",
    "\n",
    "# Final dataframe\n",
    "new_df = movies[['movie_id', 'title', 'tags']]\n"
   ]
  },
  {
   "cell_type": "code",
   "execution_count": 4,
   "id": "afa1a7af-d88b-45d2-8cc6-e97aa497098e",
   "metadata": {},
   "outputs": [],
   "source": [
    "from sklearn.feature_extraction.text import TfidfVectorizer\n",
    "from sklearn.metrics.pairwise import cosine_similarity\n",
    "\n",
    "# Vectorization\n",
    "tfidf = TfidfVectorizer(max_features=5000, stop_words='english')\n",
    "vector = tfidf.fit_transform(new_df['tags']).toarray()\n",
    "\n",
    "# Similarity matrix\n",
    "similarity = cosine_similarity(vector)\n"
   ]
  },
  {
   "cell_type": "code",
   "execution_count": 5,
   "id": "7c3c60a9-0d22-4e21-af54-f4744c0fcb39",
   "metadata": {},
   "outputs": [],
   "source": [
    "import pickle\n",
    "\n",
    "pickle.dump(new_df, open('movies.pkl', 'wb'))\n",
    "pickle.dump(tfidf, open('vectorizer.pkl', 'wb'))\n",
    "pickle.dump(similarity, open('similarity.pkl', 'wb'))\n"
   ]
  },
  {
   "cell_type": "code",
   "execution_count": null,
   "id": "7a8e3033-627d-498d-ae54-a1e44888c87b",
   "metadata": {},
   "outputs": [],
   "source": []
  }
 ],
 "metadata": {
  "kernelspec": {
   "display_name": "Python 3 (ipykernel)",
   "language": "python",
   "name": "python3"
  },
  "language_info": {
   "codemirror_mode": {
    "name": "ipython",
    "version": 3
   },
   "file_extension": ".py",
   "mimetype": "text/x-python",
   "name": "python",
   "nbconvert_exporter": "python",
   "pygments_lexer": "ipython3",
   "version": "3.13.3"
  }
 },
 "nbformat": 4,
 "nbformat_minor": 5
}
