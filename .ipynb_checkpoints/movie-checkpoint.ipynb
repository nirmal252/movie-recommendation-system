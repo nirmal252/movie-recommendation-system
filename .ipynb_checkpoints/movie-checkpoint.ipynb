{
 "cells": [
  {
   "cell_type": "code",
   "execution_count": 7,
   "id": "1add91a1-8784-4c54-a015-0016570ec553",
   "metadata": {},
   "outputs": [],
   "source": [
    "import pandas as pd\n",
    "import ast\n",
    "\n",
    "# Load files\n",
    "movies = pd.read_csv('tmdb_5000_movies.csv')\n",
    "credits = pd.read_csv('tmdb_5000_credits.csv')\n",
    "\n",
    "# Merge on title\n",
    "movies = movies.merge(credits, on='title')\n",
    "\n",
    "# Select relevant columns\n",
    "movies = movies[['movie_id', 'title', 'overview', 'genres', 'keywords', 'cast', 'crew']]\n"
   ]
  },
  {
   "cell_type": "code",
   "execution_count": 8,
   "id": "b7edc2ad-bd0d-4218-bce4-a605b2f469f0",
   "metadata": {},
   "outputs": [],
   "source": [
    "# Convert JSON-like columns to lists\n",
    "def convert(text):\n",
    "    return [i['name'] for i in ast.literal_eval(text)]\n",
    "\n",
    "def get_director(text):\n",
    "    for i in ast.literal_eval(text):\n",
    "        if i['job'] == 'Director':\n",
    "            return i['name']\n",
    "    return ''\n",
    "\n",
    "def get_top_cast(text):\n",
    "    return [i['name'] for i in ast.literal_eval(text)[:3]]  # Top 3\n",
    "\n",
    "# Apply conversions\n",
    "movies['genres'] = movies['genres'].apply(convert)\n",
    "movies['keywords'] = movies['keywords'].apply(convert)\n",
    "movies['cast'] = movies['cast'].apply(get_top_cast)\n",
    "movies['crew'] = movies['crew'].apply(get_director)\n",
    "\n",
    "# Fill missing overviews\n",
    "movies['overview'] = movies['overview'].fillna('')\n"
   ]
  },
  {
   "cell_type": "code",
   "execution_count": 9,
   "id": "c306c1bb-9294-47be-abca-0c6514b921af",
   "metadata": {},
   "outputs": [],
   "source": [
    "# Combine into a single string column\n",
    "movies['tags'] = (\n",
    "    movies['overview'] + ' ' +\n",
    "    movies['genres'].apply(lambda x: ' '.join(x)) + ' ' +\n",
    "    movies['keywords'].apply(lambda x: ' '.join(x)) + ' ' +\n",
    "    movies['cast'].apply(lambda x: ' '.join(x)) + ' ' +\n",
    "    movies['crew']\n",
    ")\n",
    "\n",
    "# Lowercase\n",
    "movies['tags'] = movies['tags'].str.lower()\n",
    "\n",
    "# Final dataframe\n",
    "new_df = movies[['movie_id', 'title', 'tags']]\n"
   ]
  },
  {
   "cell_type": "code",
   "execution_count": 10,
   "id": "90214ac3-a74e-481b-bcb6-b4ac00b853f3",
   "metadata": {},
   "outputs": [],
   "source": [
    "from sklearn.feature_extraction.text import TfidfVectorizer\n",
    "from sklearn.metrics.pairwise import cosine_similarity\n",
    "\n",
    "# Vectorize\n",
    "tfidf = TfidfVectorizer(max_features=5000, stop_words='english')\n",
    "vectors = tfidf.fit_transform(new_df['tags']).toarray()\n",
    "\n",
    "# Compute similarity matrix\n",
    "similarity = cosine_similarity(vectors)\n"
   ]
  },
  {
   "cell_type": "code",
   "execution_count": 11,
   "id": "ee88f1d3-b74d-43db-82c7-cb4ac23b5ce9",
   "metadata": {},
   "outputs": [],
   "source": [
    "def recommend(movie_title):\n",
    "    movie_title = movie_title.lower()\n",
    "    \n",
    "    if movie_title not in new_df['title'].str.lower().values:\n",
    "        return \"Movie not found in dataset.\"\n",
    "    \n",
    "    index = new_df[new_df['title'].str.lower() == movie_title].index[0]\n",
    "    distances = list(enumerate(similarity[index]))\n",
    "    sorted_movies = sorted(distances, key=lambda x: x[1], reverse=True)[1:6]\n",
    "\n",
    "    recommendations = [new_df.iloc[i[0]].title for i in sorted_movies]\n",
    "    return recommendations\n"
   ]
  },
  {
   "cell_type": "code",
   "execution_count": 12,
   "id": "847b2887-8996-4ec5-ae35-89e0993f1e3d",
   "metadata": {},
   "outputs": [
    {
     "data": {
      "text/plain": [
       "['Aliens', 'Alien', 'Moonraker', 'Alien³', 'Silent Running']"
      ]
     },
     "execution_count": 12,
     "metadata": {},
     "output_type": "execute_result"
    }
   ],
   "source": [
    "recommend(\"Avatar\")\n"
   ]
  },
  {
   "cell_type": "code",
   "execution_count": null,
   "id": "b688d646-ae93-4994-a920-6b60379a0d41",
   "metadata": {},
   "outputs": [],
   "source": []
  }
 ],
 "metadata": {
  "kernelspec": {
   "display_name": "Python 3 (ipykernel)",
   "language": "python",
   "name": "python3"
  },
  "language_info": {
   "codemirror_mode": {
    "name": "ipython",
    "version": 3
   },
   "file_extension": ".py",
   "mimetype": "text/x-python",
   "name": "python",
   "nbconvert_exporter": "python",
   "pygments_lexer": "ipython3",
   "version": "3.13.3"
  }
 },
 "nbformat": 4,
 "nbformat_minor": 5
}
